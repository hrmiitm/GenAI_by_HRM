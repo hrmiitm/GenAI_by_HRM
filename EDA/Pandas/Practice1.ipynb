{
 "cells": [
  {
   "cell_type": "markdown",
   "metadata": {},
   "source": [
    "# Summary\n",
    "\n",
    "```\n",
    "def dt(v):\n",
    "    i = int(v.split(\":\")[0])\n",
    "    if i >= 5 and i < 12: return \"Morning\"\n",
    "    if i >= 12 and i < 17: return \"Afternoon\"\n",
    "    if i >= 17 and i < 20: return \"Evening\"\n",
    "    if i >= 20 and i < 5: return \"Night\"\n",
    "\n",
    "df['Dep_Time_Applied'] = df['Dep_Time'].apply(dt)\n",
    "df['Arrival_Time_Applied'] = df['Arrival_Time'].apply(dt)\n",
    "\n",
    "df[(df.Dep_Time_Applied=='Morning') & (df.Arrival_Time_Applied == 'Evening')].shape[0]\n",
    "```"
   ]
  },
  {
   "cell_type": "markdown",
   "metadata": {},
   "source": [
    "# Part1: Obtain MetaData of Practice1.csv"
   ]
  },
  {
   "cell_type": "code",
   "execution_count": 1,
   "metadata": {},
   "outputs": [],
   "source": [
    "import pandas as pd\n",
    "# df = pd.read_csv('Practice1.csv')\n",
    "df = pd.read_csv('https://drive.usercontent.google.com/download?id=1zP38WCdZQ9StsAHTTLk72763QJQkhWrG&export=download&authuser=0')"
   ]
  },
  {
   "cell_type": "code",
   "execution_count": 2,
   "metadata": {},
   "outputs": [
    {
     "name": "stdout",
     "output_type": "stream",
     "text": [
      "Index(['Airline', 'Source', 'Destination', 'Route', 'Dep_Time', 'Arrival_Time',\n",
      "       'Duration', 'Total_Stops', 'Additional_Info', 'Price', 'Month',\n",
      "       'WeekDay', 'Day'],\n",
      "      dtype='object')\n"
     ]
    },
    {
     "data": {
      "text/plain": [
       "(9450, 13)"
      ]
     },
     "execution_count": 2,
     "metadata": {},
     "output_type": "execute_result"
    }
   ],
   "source": [
    "print(df.columns)\n",
    "df.shape # (9450, 13)"
   ]
  },
  {
   "cell_type": "code",
   "execution_count": 3,
   "metadata": {},
   "outputs": [
    {
     "data": {
      "text/html": [
       "<div>\n",
       "<style scoped>\n",
       "    .dataframe tbody tr th:only-of-type {\n",
       "        vertical-align: middle;\n",
       "    }\n",
       "\n",
       "    .dataframe tbody tr th {\n",
       "        vertical-align: top;\n",
       "    }\n",
       "\n",
       "    .dataframe thead th {\n",
       "        text-align: right;\n",
       "    }\n",
       "</style>\n",
       "<table border=\"1\" class=\"dataframe\">\n",
       "  <thead>\n",
       "    <tr style=\"text-align: right;\">\n",
       "      <th></th>\n",
       "      <th>Airline</th>\n",
       "      <th>Source</th>\n",
       "      <th>Destination</th>\n",
       "      <th>Route</th>\n",
       "      <th>Dep_Time</th>\n",
       "      <th>Arrival_Time</th>\n",
       "      <th>Duration</th>\n",
       "      <th>Total_Stops</th>\n",
       "      <th>Additional_Info</th>\n",
       "      <th>Price</th>\n",
       "      <th>Month</th>\n",
       "      <th>WeekDay</th>\n",
       "      <th>Day</th>\n",
       "    </tr>\n",
       "  </thead>\n",
       "  <tbody>\n",
       "    <tr>\n",
       "      <th>0</th>\n",
       "      <td>Jet Airways</td>\n",
       "      <td>Delhi</td>\n",
       "      <td>Banglore</td>\n",
       "      <td>DEL → BOM → COK</td>\n",
       "      <td>20:00</td>\n",
       "      <td>04:25 10 Jun</td>\n",
       "      <td>26h 35m</td>\n",
       "      <td>1 stop</td>\n",
       "      <td>In-flight meal not included</td>\n",
       "      <td>14924</td>\n",
       "      <td>6</td>\n",
       "      <td>Thursday</td>\n",
       "      <td>6.0</td>\n",
       "    </tr>\n",
       "    <tr>\n",
       "      <th>1</th>\n",
       "      <td>Jet Airways</td>\n",
       "      <td>Delhi</td>\n",
       "      <td>Cochin</td>\n",
       "      <td>DEL → BOM → COK</td>\n",
       "      <td>16:00</td>\n",
       "      <td>19:00 10 Jun</td>\n",
       "      <td>27h</td>\n",
       "      <td>1 stop</td>\n",
       "      <td>In-flight meal not included</td>\n",
       "      <td>10577</td>\n",
       "      <td>6</td>\n",
       "      <td>Sunday</td>\n",
       "      <td>9.0</td>\n",
       "    </tr>\n",
       "  </tbody>\n",
       "</table>\n",
       "</div>"
      ],
      "text/plain": [
       "       Airline Source Destination            Route Dep_Time  Arrival_Time  \\\n",
       "0  Jet Airways  Delhi    Banglore  DEL → BOM → COK    20:00  04:25 10 Jun   \n",
       "1  Jet Airways  Delhi      Cochin  DEL → BOM → COK    16:00  19:00 10 Jun   \n",
       "\n",
       "  Duration Total_Stops              Additional_Info  Price  Month   WeekDay  \\\n",
       "0  26h 35m      1 stop  In-flight meal not included  14924      6  Thursday   \n",
       "1      27h      1 stop  In-flight meal not included  10577      6    Sunday   \n",
       "\n",
       "   Day  \n",
       "0  6.0  \n",
       "1  9.0  "
      ]
     },
     "execution_count": 3,
     "metadata": {},
     "output_type": "execute_result"
    }
   ],
   "source": [
    "df.head(2)"
   ]
  },
  {
   "cell_type": "code",
   "execution_count": 4,
   "metadata": {},
   "outputs": [
    {
     "name": "stdout",
     "output_type": "stream",
     "text": [
      "<class 'pandas.core.frame.DataFrame'>\n",
      "RangeIndex: 9450 entries, 0 to 9449\n",
      "Data columns (total 13 columns):\n",
      " #   Column           Non-Null Count  Dtype  \n",
      "---  ------           --------------  -----  \n",
      " 0   Airline          9450 non-null   object \n",
      " 1   Source           9450 non-null   object \n",
      " 2   Destination      9450 non-null   object \n",
      " 3   Route            9449 non-null   object \n",
      " 4   Dep_Time         9450 non-null   object \n",
      " 5   Arrival_Time     9450 non-null   object \n",
      " 6   Duration         9450 non-null   object \n",
      " 7   Total_Stops      9250 non-null   object \n",
      " 8   Additional_Info  9450 non-null   object \n",
      " 9   Price            9450 non-null   int64  \n",
      " 10  Month            9450 non-null   int64  \n",
      " 11  WeekDay          9450 non-null   object \n",
      " 12  Day              9214 non-null   float64\n",
      "dtypes: float64(1), int64(2), object(10)\n",
      "memory usage: 959.9+ KB\n"
     ]
    }
   ],
   "source": [
    "df.info()"
   ]
  },
  {
   "cell_type": "code",
   "execution_count": 5,
   "metadata": {},
   "outputs": [
    {
     "data": {
      "text/html": [
       "<div>\n",
       "<style scoped>\n",
       "    .dataframe tbody tr th:only-of-type {\n",
       "        vertical-align: middle;\n",
       "    }\n",
       "\n",
       "    .dataframe tbody tr th {\n",
       "        vertical-align: top;\n",
       "    }\n",
       "\n",
       "    .dataframe thead th {\n",
       "        text-align: right;\n",
       "    }\n",
       "</style>\n",
       "<table border=\"1\" class=\"dataframe\">\n",
       "  <thead>\n",
       "    <tr style=\"text-align: right;\">\n",
       "      <th></th>\n",
       "      <th>Price</th>\n",
       "      <th>Month</th>\n",
       "      <th>Day</th>\n",
       "    </tr>\n",
       "  </thead>\n",
       "  <tbody>\n",
       "    <tr>\n",
       "      <th>count</th>\n",
       "      <td>9450.000000</td>\n",
       "      <td>9450.000000</td>\n",
       "      <td>9214.000000</td>\n",
       "    </tr>\n",
       "    <tr>\n",
       "      <th>mean</th>\n",
       "      <td>9027.895556</td>\n",
       "      <td>4.718730</td>\n",
       "      <td>13.517582</td>\n",
       "    </tr>\n",
       "    <tr>\n",
       "      <th>std</th>\n",
       "      <td>4466.677471</td>\n",
       "      <td>1.162725</td>\n",
       "      <td>8.459792</td>\n",
       "    </tr>\n",
       "    <tr>\n",
       "      <th>min</th>\n",
       "      <td>1759.000000</td>\n",
       "      <td>3.000000</td>\n",
       "      <td>1.000000</td>\n",
       "    </tr>\n",
       "    <tr>\n",
       "      <th>25%</th>\n",
       "      <td>5198.000000</td>\n",
       "      <td>3.000000</td>\n",
       "      <td>6.000000</td>\n",
       "    </tr>\n",
       "    <tr>\n",
       "      <th>50%</th>\n",
       "      <td>8366.000000</td>\n",
       "      <td>5.000000</td>\n",
       "      <td>12.000000</td>\n",
       "    </tr>\n",
       "    <tr>\n",
       "      <th>75%</th>\n",
       "      <td>12373.000000</td>\n",
       "      <td>6.000000</td>\n",
       "      <td>21.000000</td>\n",
       "    </tr>\n",
       "    <tr>\n",
       "      <th>max</th>\n",
       "      <td>57209.000000</td>\n",
       "      <td>6.000000</td>\n",
       "      <td>27.000000</td>\n",
       "    </tr>\n",
       "  </tbody>\n",
       "</table>\n",
       "</div>"
      ],
      "text/plain": [
       "              Price        Month          Day\n",
       "count   9450.000000  9450.000000  9214.000000\n",
       "mean    9027.895556     4.718730    13.517582\n",
       "std     4466.677471     1.162725     8.459792\n",
       "min     1759.000000     3.000000     1.000000\n",
       "25%     5198.000000     3.000000     6.000000\n",
       "50%     8366.000000     5.000000    12.000000\n",
       "75%    12373.000000     6.000000    21.000000\n",
       "max    57209.000000     6.000000    27.000000"
      ]
     },
     "execution_count": 5,
     "metadata": {},
     "output_type": "execute_result"
    }
   ],
   "source": [
    "df.describe() # summary excluded nan values"
   ]
  },
  {
   "cell_type": "markdown",
   "metadata": {},
   "source": [
    "# Part2: Direct Questions"
   ]
  },
  {
   "cell_type": "markdown",
   "metadata": {},
   "source": [
    "##### Q1) What is the average of the flight ticket price? Write your answer correct to two decimal places."
   ]
  },
  {
   "cell_type": "code",
   "execution_count": 6,
   "metadata": {},
   "outputs": [
    {
     "data": {
      "text/plain": [
       "9027.895555555555"
      ]
     },
     "execution_count": 6,
     "metadata": {},
     "output_type": "execute_result"
    }
   ],
   "source": [
    "df['Price'].mean() # count, sum, meanMedianStd, minMax"
   ]
  },
  {
   "cell_type": "markdown",
   "metadata": {},
   "source": [
    "##### Q2) During which month did the highest number of flights occur? Months are represented by numerical codes, with January corresponding to 1, February to 2, and so forth."
   ]
  },
  {
   "cell_type": "code",
   "execution_count": 7,
   "metadata": {},
   "outputs": [
    {
     "data": {
      "text/plain": [
       "(5, 3092)"
      ]
     },
     "execution_count": 7,
     "metadata": {},
     "output_type": "execute_result"
    }
   ],
   "source": [
    "x = df.Month.value_counts()\n",
    "x.idxmax(), x.max()"
   ]
  },
  {
   "cell_type": "code",
   "execution_count": 8,
   "metadata": {},
   "outputs": [
    {
     "data": {
      "text/plain": [
       "Month\n",
       "5    3092\n",
       "6    3044\n",
       "3    2388\n",
       "4     926\n",
       "Name: count, dtype: int64"
      ]
     },
     "execution_count": 8,
     "metadata": {},
     "output_type": "execute_result"
    }
   ],
   "source": [
    "df.Month.value_counts()"
   ]
  },
  {
   "cell_type": "markdown",
   "metadata": {},
   "source": [
    "##### Q3) Is the average price of flight tickets higher on weekends (Saturday and Sunday) or on weekdays (Remaining 5 days)?"
   ]
  },
  {
   "cell_type": "code",
   "execution_count": 9,
   "metadata": {},
   "outputs": [
    {
     "data": {
      "text/plain": [
       "['Thursday', 'Sunday', 'Friday', 'Monday', 'Saturday', 'Wednesday', 'Tuesday']"
      ]
     },
     "execution_count": 9,
     "metadata": {},
     "output_type": "execute_result"
    }
   ],
   "source": [
    "list(df.WeekDay.unique())"
   ]
  },
  {
   "cell_type": "code",
   "execution_count": 10,
   "metadata": {},
   "outputs": [
    {
     "data": {
      "text/plain": [
       "day_type\n",
       "wd     9015.219666\n",
       "wnd    9058.016077\n",
       "Name: Price, dtype: float64"
      ]
     },
     "execution_count": 10,
     "metadata": {},
     "output_type": "execute_result"
    }
   ],
   "source": [
    "wd = ['Saturday', 'Sunday']\n",
    "df['day_type'] = df['WeekDay'].apply(lambda x: 'wnd' if x in wd else 'wd')\n",
    "\n",
    "m = df.groupby('day_type')['Price'].mean()\n",
    "m"
   ]
  },
  {
   "cell_type": "code",
   "execution_count": 11,
   "metadata": {},
   "outputs": [
    {
     "data": {
      "text/plain": [
       "True"
      ]
     },
     "execution_count": 11,
     "metadata": {},
     "output_type": "execute_result"
    }
   ],
   "source": [
    "m.wnd.mean() > m.wd.mean()"
   ]
  },
  {
   "cell_type": "code",
   "execution_count": null,
   "metadata": {},
   "outputs": [],
   "source": []
  },
  {
   "cell_type": "markdown",
   "metadata": {},
   "source": [
    "##### Q4) Two of the entries in the 'Additional_Info' column are 'No info' and 'No Info'. Replace all occurrences of 'No Info' with 'No info'. How many flights fall under airline 'IndiGo' and have 'No info' as additional information?"
   ]
  },
  {
   "cell_type": "code",
   "execution_count": 12,
   "metadata": {},
   "outputs": [
    {
     "data": {
      "text/plain": [
       "(array(['In-flight meal not included', 'No info',\n",
       "        'No check-in baggage included', '1 Long layover',\n",
       "        'Change airports', 'No Info', '2 Long layover', '1 Short layover',\n",
       "        'Business class'], dtype=object),\n",
       " array(['In-flight meal not included', 'No info',\n",
       "        'No check-in baggage included', '1 Long layover',\n",
       "        'Change airports', '2 Long layover', '1 Short layover',\n",
       "        'Business class'], dtype=object))"
      ]
     },
     "execution_count": 12,
     "metadata": {},
     "output_type": "execute_result"
    }
   ],
   "source": [
    "d = {'No Info': 'No info'}\n",
    "\n",
    "df['Additional_Info_Replaced'] = df['Additional_Info'].replace(d)\n",
    "df.Additional_Info.unique(), df.Additional_Info_Replaced.unique()"
   ]
  },
  {
   "cell_type": "code",
   "execution_count": 13,
   "metadata": {},
   "outputs": [
    {
     "data": {
      "text/plain": [
       "1650"
      ]
     },
     "execution_count": 13,
     "metadata": {},
     "output_type": "execute_result"
    }
   ],
   "source": [
    "df[(df.Airline=='IndiGo') & (df.Additional_Info_Replaced=='No info')].shape[0]"
   ]
  },
  {
   "cell_type": "code",
   "execution_count": null,
   "metadata": {},
   "outputs": [],
   "source": []
  },
  {
   "cell_type": "markdown",
   "metadata": {},
   "source": [
    "##### Q5) Convert the values of 'Duration' into seconds. Enter the average duration (in seconds) of a flight. Enter your answer correct to two decimal places."
   ]
  },
  {
   "cell_type": "code",
   "execution_count": 14,
   "metadata": {},
   "outputs": [
    {
     "data": {
      "text/plain": [
       "38957.93650793651"
      ]
     },
     "execution_count": 14,
     "metadata": {},
     "output_type": "execute_result"
    }
   ],
   "source": [
    "# df.Duration.unique() # xh ym\n",
    "def f(x):\n",
    "    l = x.split()\n",
    "    s = 0\n",
    "    for word in l:\n",
    "        if word[-1] in ['h', 'H']:\n",
    "            s += int(word[:-1])*3600\n",
    "        elif word[-1] in ['m', 'M']:\n",
    "            s += int(word[:-1])*60\n",
    "        else:\n",
    "            s += int(word[:-1])\n",
    "    return s\n",
    "\n",
    "df['Duration_In_Seconds'] = df['Duration'].apply(f)\n",
    "df.Duration_In_Seconds.mean()"
   ]
  },
  {
   "cell_type": "code",
   "execution_count": null,
   "metadata": {},
   "outputs": [],
   "source": []
  },
  {
   "cell_type": "markdown",
   "metadata": {},
   "source": [
    "# Part3: Preprocessing\n",
    "Apply the following functions to the columns Dep_Time and Arrival_Time:\n",
    "\n",
    "Transform the values in the 'dep_time' and 'arrival_time' columns to represent the hour component. For instance, if an entry is 10:05 June 13 or 10:05, the corresponding value should be 10. \n",
    "Then convert the time into four categories as follows:\n",
    "- 5 <= hour < 12 = Morning \n",
    "- 12 <= hour < 17 = Afternoon \n",
    "- 17 <= hour < 20 = Evening \n",
    "- 20 <= hour < 5 = Night\n",
    "\n",
    "Note: Please ensure that you make the changes directly within the dataset and continue to use that modified dataset for subsequent questions."
   ]
  },
  {
   "cell_type": "code",
   "execution_count": 15,
   "metadata": {},
   "outputs": [
    {
     "data": {
      "text/html": [
       "<div>\n",
       "<style scoped>\n",
       "    .dataframe tbody tr th:only-of-type {\n",
       "        vertical-align: middle;\n",
       "    }\n",
       "\n",
       "    .dataframe tbody tr th {\n",
       "        vertical-align: top;\n",
       "    }\n",
       "\n",
       "    .dataframe thead th {\n",
       "        text-align: right;\n",
       "    }\n",
       "</style>\n",
       "<table border=\"1\" class=\"dataframe\">\n",
       "  <thead>\n",
       "    <tr style=\"text-align: right;\">\n",
       "      <th></th>\n",
       "      <th>Airline</th>\n",
       "      <th>Source</th>\n",
       "      <th>Destination</th>\n",
       "      <th>Route</th>\n",
       "      <th>Dep_Time</th>\n",
       "      <th>Arrival_Time</th>\n",
       "      <th>Duration</th>\n",
       "      <th>Total_Stops</th>\n",
       "      <th>Additional_Info</th>\n",
       "      <th>Price</th>\n",
       "      <th>Month</th>\n",
       "      <th>WeekDay</th>\n",
       "      <th>Day</th>\n",
       "      <th>day_type</th>\n",
       "      <th>Additional_Info_Replaced</th>\n",
       "      <th>Duration_In_Seconds</th>\n",
       "    </tr>\n",
       "  </thead>\n",
       "  <tbody>\n",
       "    <tr>\n",
       "      <th>0</th>\n",
       "      <td>Jet Airways</td>\n",
       "      <td>Delhi</td>\n",
       "      <td>Banglore</td>\n",
       "      <td>DEL → BOM → COK</td>\n",
       "      <td>20:00</td>\n",
       "      <td>04:25 10 Jun</td>\n",
       "      <td>26h 35m</td>\n",
       "      <td>1 stop</td>\n",
       "      <td>In-flight meal not included</td>\n",
       "      <td>14924</td>\n",
       "      <td>6</td>\n",
       "      <td>Thursday</td>\n",
       "      <td>6.0</td>\n",
       "      <td>wd</td>\n",
       "      <td>In-flight meal not included</td>\n",
       "      <td>95700</td>\n",
       "    </tr>\n",
       "    <tr>\n",
       "      <th>1</th>\n",
       "      <td>Jet Airways</td>\n",
       "      <td>Delhi</td>\n",
       "      <td>Cochin</td>\n",
       "      <td>DEL → BOM → COK</td>\n",
       "      <td>16:00</td>\n",
       "      <td>19:00 10 Jun</td>\n",
       "      <td>27h</td>\n",
       "      <td>1 stop</td>\n",
       "      <td>In-flight meal not included</td>\n",
       "      <td>10577</td>\n",
       "      <td>6</td>\n",
       "      <td>Sunday</td>\n",
       "      <td>9.0</td>\n",
       "      <td>wnd</td>\n",
       "      <td>In-flight meal not included</td>\n",
       "      <td>97200</td>\n",
       "    </tr>\n",
       "  </tbody>\n",
       "</table>\n",
       "</div>"
      ],
      "text/plain": [
       "       Airline Source Destination            Route Dep_Time  Arrival_Time  \\\n",
       "0  Jet Airways  Delhi    Banglore  DEL → BOM → COK    20:00  04:25 10 Jun   \n",
       "1  Jet Airways  Delhi      Cochin  DEL → BOM → COK    16:00  19:00 10 Jun   \n",
       "\n",
       "  Duration Total_Stops              Additional_Info  Price  Month   WeekDay  \\\n",
       "0  26h 35m      1 stop  In-flight meal not included  14924      6  Thursday   \n",
       "1      27h      1 stop  In-flight meal not included  10577      6    Sunday   \n",
       "\n",
       "   Day day_type     Additional_Info_Replaced  Duration_In_Seconds  \n",
       "0  6.0       wd  In-flight meal not included                95700  \n",
       "1  9.0      wnd  In-flight meal not included                97200  "
      ]
     },
     "execution_count": 15,
     "metadata": {},
     "output_type": "execute_result"
    }
   ],
   "source": [
    "df.head(2)"
   ]
  },
  {
   "cell_type": "code",
   "execution_count": 16,
   "metadata": {},
   "outputs": [],
   "source": [
    "def dt(v):\n",
    "    i = int(v.split(\":\")[0])\n",
    "    if i >= 5 and i < 12: return \"Morning\"\n",
    "    if i >= 12 and i < 17: return \"Afternoon\"\n",
    "    if i >= 17 and i < 20: return \"Evening\"\n",
    "    if i >= 20 and i < 5: return \"Night\"\n",
    "\n",
    "df['Dep_Time_Applied'] = df['Dep_Time'].apply(dt)\n",
    "df['Arrival_Time_Applied'] = df['Arrival_Time'].apply(dt)"
   ]
  },
  {
   "cell_type": "code",
   "execution_count": null,
   "metadata": {},
   "outputs": [],
   "source": []
  },
  {
   "cell_type": "markdown",
   "metadata": {},
   "source": [
    "##### Q6) How many flights started in the Morning and arrived the destination at Evening?"
   ]
  },
  {
   "cell_type": "code",
   "execution_count": 17,
   "metadata": {},
   "outputs": [
    {
     "data": {
      "text/plain": [
       "922"
      ]
     },
     "execution_count": 17,
     "metadata": {},
     "output_type": "execute_result"
    }
   ],
   "source": [
    "df[(df.Dep_Time_Applied=='Morning') & (df.Arrival_Time_Applied == 'Evening')].shape[0]"
   ]
  },
  {
   "cell_type": "markdown",
   "metadata": {},
   "source": [
    "##### Q7) Encode the values of column 'WeekDay' as follows:\n",
    "- Weekends (Sunday, Saturday) = 1\n",
    "- all remaining five days = 0\n",
    "- What is the most frequent (mode) WeekDay?"
   ]
  },
  {
   "cell_type": "code",
   "execution_count": 18,
   "metadata": {},
   "outputs": [
    {
     "data": {
      "text/plain": [
       "day_type\n",
       "wd     6651\n",
       "wnd    2799\n",
       "Name: count, dtype: int64"
      ]
     },
     "execution_count": 18,
     "metadata": {},
     "output_type": "execute_result"
    }
   ],
   "source": [
    "df.day_type.value_counts()"
   ]
  },
  {
   "cell_type": "code",
   "execution_count": 19,
   "metadata": {},
   "outputs": [
    {
     "data": {
      "text/plain": [
       "0    wd\n",
       "Name: day_type, dtype: object"
      ]
     },
     "execution_count": 19,
     "metadata": {},
     "output_type": "execute_result"
    }
   ],
   "source": [
    "df.day_type.mode()"
   ]
  },
  {
   "cell_type": "markdown",
   "metadata": {},
   "source": [
    "# Answers\n",
    "- 1) 9027.895555555555\n",
    "- 2) May (5th 3092 counts)\n",
    "- 3) Weekends(Saturday and Sunday) (9058.016077 > 9015.219666)\n",
    "- 4) 1650\n",
    "- 5) 38957.93650793651\n",
    "- 6) 922\n",
    "- 7) Weekdays (6651 counts)"
   ]
  },
  {
   "cell_type": "markdown",
   "metadata": {},
   "source": []
  },
  {
   "cell_type": "code",
   "execution_count": null,
   "metadata": {},
   "outputs": [],
   "source": []
  }
 ],
 "metadata": {
  "kernelspec": {
   "display_name": "base",
   "language": "python",
   "name": "python3"
  },
  "language_info": {
   "codemirror_mode": {
    "name": "ipython",
    "version": 3
   },
   "file_extension": ".py",
   "mimetype": "text/x-python",
   "name": "python",
   "nbconvert_exporter": "python",
   "pygments_lexer": "ipython3",
   "version": "3.12.4"
  }
 },
 "nbformat": 4,
 "nbformat_minor": 2
}
